{
 "cells": [
  {
   "cell_type": "markdown",
   "source": [
    "# Datajoint pipeline for lab analysis"
   ],
   "metadata": {
    "collapsed": false
   }
  },
  {
   "cell_type": "code",
   "execution_count": 1,
   "outputs": [
    {
     "name": "stderr",
     "output_type": "stream",
     "text": [
      "[2023-04-20 23:12:49,265][INFO]: Connecting root@127.0.0.1:3306\n",
      "[2023-04-20 23:12:49,328][INFO]: Connected root@127.0.0.1:3306\n"
     ]
    },
    {
     "data": {
      "text/plain": "<datajoint.diagram.Diagram at 0x1c6cbe5ac10>",
      "image/svg+xml": "<svg xmlns=\"http://www.w3.org/2000/svg\" xmlns:xlink=\"http://www.w3.org/1999/xlink\" width=\"231pt\" height=\"240pt\" viewBox=\"0.00 0.00 230.75 240.00\">\n<g id=\"graph0\" class=\"graph\" transform=\"scale(1 1) rotate(0) translate(4 236)\">\n<polygon fill=\"white\" stroke=\"transparent\" points=\"-4,4 -4,-236 226.75,-236 226.75,4 -4,4\"/>\n<!-- Model -->\n<g id=\"node1\" class=\"node\">\n<title>Model</title>\n<g id=\"a_node1\"><a xlink:title=\"model_id             \r------------------------------\rname                 \rtype                 \rorigin               \rtraining_date        \rdescription          \r\">\n<polygon fill=\"#000000\" fill-opacity=\"0.125490\" stroke=\"transparent\" points=\"43,-161 0,-161 0,-126 43,-126 43,-161\"/>\n<text text-anchor=\"start\" x=\"8\" y=\"-142\" font-family=\"arial\" text-decoration=\"underline\" font-size=\"10.00\">Model</text>\n</a>\n</g>\n</g>\n<!-- Pose -->\n<g id=\"node2\" class=\"node\">\n<title>Pose</title>\n<g id=\"a_node2\"><a xlink:title=\"→ Session\r→ Experimenter\r→ Model\r------------------------------\rkeypoints            \rpose                 \r\">\n<ellipse fill=\"#00007f\" fill-opacity=\"0.250980\" stroke=\"#00007f\" stroke-opacity=\"0.250980\" cx=\"84.5\" cy=\"-72.5\" rx=\"27.5\" ry=\"17.5\"/>\n<text text-anchor=\"middle\" x=\"84.5\" y=\"-69.4\" font-family=\"arial\" font-size=\"12.00\" fill=\"#00007f\" fill-opacity=\"0.627451\">Pose</text>\n</a>\n</g>\n</g>\n<!-- Model&#45;&gt;Pose -->\n<g id=\"edge1\" class=\"edge\">\n<title>Model-&gt;Pose</title>\n<path fill=\"none\" stroke=\"#000000\" stroke-width=\"0.75\" stroke-opacity=\"0.250980\" d=\"M36.75,-125.8C47.24,-114.31 61.04,-99.2 71.1,-88.18\"/>\n</g>\n<!-- Mouse -->\n<g id=\"node3\" class=\"node\">\n<title>Mouse</title>\n<g id=\"a_node3\"><a xlink:title=\"mouse_id             \r------------------------------\rdob=null             \rsex=&quot;unknown&quot;        \rgenotype             \r\">\n<polygon fill=\"#00ff00\" fill-opacity=\"0.188235\" stroke=\"#00ff00\" stroke-opacity=\"0.188235\" points=\"118,-232 65,-232 65,-197 118,-197 118,-232\"/>\n<text text-anchor=\"start\" x=\"73\" y=\"-212.4\" font-family=\"arial\" text-decoration=\"underline\" font-size=\"12.00\" fill=\"darkgreen\">Mouse</text>\n</a>\n</g>\n</g>\n<!-- Session -->\n<g id=\"node6\" class=\"node\">\n<title>Session</title>\n<g id=\"a_node6\"><a xlink:title=\"→ Mouse\rsession_id           \r------------------------------\rsession_time         \rexperimenter_id      \rvideo_path           \rvideo_fps            \rpose_path            \rpose_model_id        \rannotation_path      \rannotation_origin    \r\">\n<polygon fill=\"#00ff00\" fill-opacity=\"0.188235\" stroke=\"#00ff00\" stroke-opacity=\"0.188235\" points=\"121.5,-161 61.5,-161 61.5,-126 121.5,-126 121.5,-161\"/>\n<text text-anchor=\"start\" x=\"69.5\" y=\"-141.4\" font-family=\"arial\" text-decoration=\"underline\" font-size=\"12.00\" fill=\"darkgreen\">Session</text>\n</a>\n</g>\n</g>\n<!-- Mouse&#45;&gt;Session -->\n<g id=\"edge2\" class=\"edge\">\n<title>Mouse-&gt;Session</title>\n<path fill=\"none\" stroke=\"#000000\" stroke-width=\"0.75\" stroke-opacity=\"0.250980\" d=\"M91.5,-196.8C91.5,-185.95 91.5,-171.87 91.5,-161.05\"/>\n</g>\n<!-- Experimenter -->\n<g id=\"node4\" class=\"node\">\n<title>Experimenter</title>\n<g id=\"a_node4\"><a xlink:title=\"experimenter_id      \r------------------------------\rname=null            \rsex=&quot;unknown&quot;        \r\">\n<polygon fill=\"#000000\" fill-opacity=\"0.125490\" stroke=\"transparent\" points=\"213.5,-161 139.5,-161 139.5,-126 213.5,-126 213.5,-161\"/>\n<text text-anchor=\"start\" x=\"147.5\" y=\"-142\" font-family=\"arial\" text-decoration=\"underline\" font-size=\"10.00\">Experimenter</text>\n</a>\n</g>\n</g>\n<!-- Experimenter&#45;&gt;Pose -->\n<g id=\"edge3\" class=\"edge\">\n<title>Experimenter-&gt;Pose</title>\n<path fill=\"none\" stroke=\"#000000\" stroke-width=\"0.75\" stroke-opacity=\"0.250980\" d=\"M154.23,-125.8C138.06,-113.67 116.51,-97.51 101.67,-86.38\"/>\n</g>\n<!-- Annotation -->\n<g id=\"node5\" class=\"node\">\n<title>Annotation</title>\n<g id=\"a_node5\"><a xlink:title=\"→ Session\r→ Experimenter\r------------------------------\rannotations=null     \runique_labels=null   \r\">\n<ellipse fill=\"#00007f\" fill-opacity=\"0.250980\" stroke=\"#00007f\" stroke-opacity=\"0.250980\" cx=\"176.5\" cy=\"-72.5\" rx=\"46\" ry=\"17.5\"/>\n<text text-anchor=\"middle\" x=\"176.5\" y=\"-69.4\" font-family=\"arial\" font-size=\"12.00\" fill=\"#00007f\" fill-opacity=\"0.627451\">Annotation</text>\n</a>\n</g>\n</g>\n<!-- Experimenter&#45;&gt;Annotation -->\n<g id=\"edge4\" class=\"edge\">\n<title>Experimenter-&gt;Annotation</title>\n<path fill=\"none\" stroke=\"#000000\" stroke-width=\"0.75\" stroke-opacity=\"0.250980\" d=\"M176.5,-125.8C176.5,-114.95 176.5,-100.87 176.5,-90.05\"/>\n</g>\n<!-- Annotation.Stats -->\n<g id=\"node7\" class=\"node\">\n<title>Annotation.Stats</title>\n<g id=\"a_node7\"><a xlink:title=\"→ Annotation\rbehavior_id          \r------------------------------\rtotal_frames         \rtotal_perc           \rtotal_time           \r\">\n<polygon fill=\"transparent\" stroke=\"transparent\" points=\"221,-19 132,-19 132,0 221,0 221,-19\"/>\n<text text-anchor=\"start\" x=\"140\" y=\"-8\" font-family=\"arial\" text-decoration=\"underline\" font-size=\"10.00\">Annotation.Stats</text>\n</a>\n</g>\n</g>\n<!-- Annotation&#45;&gt;Annotation.Stats -->\n<g id=\"edge5\" class=\"edge\">\n<title>Annotation-&gt;Annotation.Stats</title>\n<path fill=\"none\" stroke=\"#000000\" stroke-width=\"0.75\" stroke-opacity=\"0.250980\" d=\"M176.5,-54.83C176.5,-43.26 176.5,-28.32 176.5,-19.08\"/>\n</g>\n<!-- Session&#45;&gt;Pose -->\n<g id=\"edge6\" class=\"edge\">\n<title>Session-&gt;Pose</title>\n<path fill=\"none\" stroke=\"#000000\" stroke-width=\"0.75\" stroke-opacity=\"0.250980\" d=\"M89.81,-125.8C88.7,-114.95 87.28,-100.87 86.18,-90.05\"/>\n</g>\n<!-- Session&#45;&gt;Annotation -->\n<g id=\"edge7\" class=\"edge\">\n<title>Session-&gt;Annotation</title>\n<path fill=\"none\" stroke=\"#000000\" stroke-width=\"0.75\" stroke-opacity=\"0.250980\" d=\"M112.08,-125.8C126.03,-114.47 144.33,-99.62 157.85,-88.64\"/>\n</g>\n</g>\n</svg>"
     },
     "execution_count": 1,
     "metadata": {},
     "output_type": "execute_result"
    }
   ],
   "source": [
    "import datajoint as dj\n",
    "from tables import schema, Mouse, Session, Experimenter, Annotation, Pose, Model\n",
    "\n",
    "dj.Diagram(schema)"
   ],
   "metadata": {
    "collapsed": false,
    "ExecuteTime": {
     "start_time": "2023-04-20T23:12:48.304544Z",
     "end_time": "2023-04-20T23:12:54.196775Z"
    }
   }
  },
  {
   "cell_type": "markdown",
   "source": [
    "## Autopopulating the tables based on previous file structure\n",
    "1. Find all label and pose files (with known naming convention)\n",
    "2. extract all unique mice and sessions\n",
    "3. convert to appropriate format (int, datetime)\n",
    "4. Insert into tables (Mouse, Session)\n",
    "5. Populate import tables (Pose, Annotation)"
   ],
   "metadata": {
    "collapsed": false
   }
  },
  {
   "cell_type": "code",
   "execution_count": 2,
   "outputs": [],
   "source": [
    "# add data to the database\n",
    "import os\n",
    "import glob\n",
    "import datetime\n",
    "\n",
    "dir_path = \"D:\\COLLABDATA\\Seizures\\seizure_examples\\package\"\n",
    "\n",
    "label_files = glob.glob(os.path.join(dir_path, \"*.csv\"))\n",
    "pose_files = glob.glob(os.path.join(dir_path, \"*.h5\"))\n",
    "\n",
    "#naming convention is : T332-27072022-204839 Mouse-SessionDate-Time\n",
    "#WARNING: specific for the naming convention for the session\n",
    "base_name_files = [os.path.basename(x).split(\"_\")[0] for x in label_files]\n",
    "\n",
    "for num, f in enumerate(base_name_files):\n",
    "    mouse, session_date = f.split(\"-\")[0], (\"-\").join(f.split(\"-\")[1:])\n",
    "    #remove the T\n",
    "    mouse = mouse[1:]\n",
    "    #add to Mouse table\n",
    "    Mouse.insert1((mouse, \"1900-01-01\", \"M\" , \"C57BL6\"), skip_duplicates = True)\n",
    "    #add to Session table\n",
    "    #transform the date into a datetime object\n",
    "    session_date = datetime.datetime.strptime(session_date, \"%d%m%Y-%H%M%S\")\n",
    "    #convert to table standard datetime format\n",
    "    session_date = session_date.strftime(\"%Y-%m-%d-%H:%M:%S\")\n",
    "    #convert back to string\n",
    "    session_date = str(session_date)\n",
    "    Session.insert1((mouse, num, session_date, 0, \"NaN\", 30, pose_files[num], 0, label_files[num], \"BORIS\"),                 skip_duplicates = True)\n",
    "\n",
    "\n",
    "#populate the Import tables\n",
    "Annotation.populate()\n",
    "Pose.populate()\n"
   ],
   "metadata": {
    "collapsed": false,
    "ExecuteTime": {
     "start_time": "2023-04-20T23:12:54.211719Z",
     "end_time": "2023-04-20T23:13:05.320697Z"
    }
   }
  },
  {
   "cell_type": "code",
   "execution_count": 3,
   "outputs": [
    {
     "data": {
      "text/plain": "*mouse_id    *session_id    dob            sex     genotype     session_time   experimenter_i video_path     video_fps     pose_path      pose_model_id  annotation_pat annotation_ori\n+----------+ +------------+ +------------+ +-----+ +----------+ +------------+ +------------+ +------------+ +-----------+ +------------+ +------------+ +------------+ +------------+\n332          0              1900-01-01     M       C57BL6       2022-07-27 20: 0              NaN            30            D:\\COLLABDATA\\ 0              D:\\COLLABDATA\\ BORIS         \n332          1              1900-01-01     M       C57BL6       2022-07-27 21: 0              NaN            30            D:\\COLLABDATA\\ 0              D:\\COLLABDATA\\ BORIS         \n332          2              1900-01-01     M       C57BL6       2022-07-27 21: 0              NaN            30            D:\\COLLABDATA\\ 0              D:\\COLLABDATA\\ BORIS         \n332          3              1900-01-01     M       C57BL6       2022-07-27 22: 0              NaN            30            D:\\COLLABDATA\\ 0              D:\\COLLABDATA\\ BORIS         \n333          4              1900-01-01     M       C57BL6       2022-07-27 21: 0              NaN            30            D:\\COLLABDATA\\ 0              D:\\COLLABDATA\\ BORIS         \n333          5              1900-01-01     M       C57BL6       2022-07-27 22: 0              NaN            30            D:\\COLLABDATA\\ 0              D:\\COLLABDATA\\ BORIS         \n (Total: 6)",
      "text/html": "\n    \n    <style type=\"text/css\">\n        .Relation{\n            border-collapse:collapse;\n        }\n        .Relation th{\n            background: #A0A0A0; color: #ffffff; padding:4px; border:#f0e0e0 1px solid;\n            font-weight: normal; font-family: monospace; font-size: 100%;\n        }\n        .Relation td{\n            padding:4px; border:#f0e0e0 1px solid; font-size:100%;\n        }\n        .Relation tr:nth-child(odd){\n            background: #ffffff;\n        }\n        .Relation tr:nth-child(even){\n            background: #f3f1ff;\n        }\n        /* Tooltip container */\n        .djtooltip {\n        }\n        /* Tooltip text */\n        .djtooltip .djtooltiptext {\n            visibility: hidden;\n            width: 120px;\n            background-color: black;\n            color: #fff;\n            text-align: center;\n            padding: 5px 0;\n            border-radius: 6px;\n            /* Position the tooltip text - see examples below! */\n            position: absolute;\n            z-index: 1;\n        }\n        #primary {\n            font-weight: bold;\n            color: black;\n        }\n        #nonprimary {\n            font-weight: normal;\n            color: white;\n        }\n\n        /* Show the tooltip text when you mouse over the tooltip container */\n        .djtooltip:hover .djtooltiptext {\n            visibility: visible;\n        }\n    </style>\n    \n    \n        <div style=\"max-height:1000px;max-width:1500px;overflow:auto;\">\n        <table border=\"1\" class=\"Relation\">\n            <thead> <tr style=\"text-align: right;\"> <th> <div class=\"djtooltip\">\n                            <p id=\"primary\">mouse_id</p>\n                            <span class=\"djtooltiptext\">Unique animal ID</span>\n                        </div></th><th><div class=\"djtooltip\">\n                            <p id=\"primary\">session_id</p>\n                            <span class=\"djtooltiptext\">id of experiment</span>\n                        </div></th><th><div class=\"djtooltip\">\n                            <p id=\"nonprimary\">dob</p>\n                            <span class=\"djtooltiptext\">date of birth</span>\n                        </div></th><th><div class=\"djtooltip\">\n                            <p id=\"nonprimary\">sex</p>\n                            <span class=\"djtooltiptext\">sex</span>\n                        </div></th><th><div class=\"djtooltip\">\n                            <p id=\"nonprimary\">genotype</p>\n                            <span class=\"djtooltiptext\">genotype of animal #TODO: should be restricted to Lookup table</span>\n                        </div></th><th><div class=\"djtooltip\">\n                            <p id=\"nonprimary\">session_time</p>\n                            <span class=\"djtooltiptext\">time of experiment #todo: change to datetime</span>\n                        </div></th><th><div class=\"djtooltip\">\n                            <p id=\"nonprimary\">experimenter_id</p>\n                            <span class=\"djtooltiptext\">id of experimenter, linking to experimenter table</span>\n                        </div></th><th><div class=\"djtooltip\">\n                            <p id=\"nonprimary\">video_path</p>\n                            <span class=\"djtooltiptext\">path to video file</span>\n                        </div></th><th><div class=\"djtooltip\">\n                            <p id=\"nonprimary\">video_fps</p>\n                            <span class=\"djtooltiptext\">fps of recorded video file</span>\n                        </div></th><th><div class=\"djtooltip\">\n                            <p id=\"nonprimary\">pose_path</p>\n                            <span class=\"djtooltiptext\">path to pose file</span>\n                        </div></th><th><div class=\"djtooltip\">\n                            <p id=\"nonprimary\">pose_model_id</p>\n                            <span class=\"djtooltiptext\">unique id linking pose file to model</span>\n                        </div></th><th><div class=\"djtooltip\">\n                            <p id=\"nonprimary\">annotation_path</p>\n                            <span class=\"djtooltiptext\">path to annotation file</span>\n                        </div></th><th><div class=\"djtooltip\">\n                            <p id=\"nonprimary\">annotation_origin</p>\n                            <span class=\"djtooltiptext\">origin of annotation files (e.g. BORIS)</span>\n                        </div> </th> </tr> </thead>\n            <tbody> <tr> <td>332</td>\n<td>0</td>\n<td>1900-01-01</td>\n<td>M</td>\n<td>C57BL6</td>\n<td>2022-07-27 20:48:39</td>\n<td>0</td>\n<td>NaN</td>\n<td>30</td>\n<td>D:\\COLLABDATA\\Seizures\\seizure_examples\\package\\T332-27072022-204839.avi.predictions.analysis.h5</td>\n<td>0</td>\n<td>D:\\COLLABDATA\\Seizures\\seizure_examples\\package\\T332-27072022-204839_No focal subject.csv</td>\n<td>BORIS</td></tr><tr><td>332</td>\n<td>1</td>\n<td>1900-01-01</td>\n<td>M</td>\n<td>C57BL6</td>\n<td>2022-07-27 21:18:41</td>\n<td>0</td>\n<td>NaN</td>\n<td>30</td>\n<td>D:\\COLLABDATA\\Seizures\\seizure_examples\\package\\T332-27072022-211841.avi.predictions.analysis.h5</td>\n<td>0</td>\n<td>D:\\COLLABDATA\\Seizures\\seizure_examples\\package\\T332-27072022-211841_No focal subject.csv</td>\n<td>BORIS</td></tr><tr><td>332</td>\n<td>2</td>\n<td>1900-01-01</td>\n<td>M</td>\n<td>C57BL6</td>\n<td>2022-07-27 21:48:43</td>\n<td>0</td>\n<td>NaN</td>\n<td>30</td>\n<td>D:\\COLLABDATA\\Seizures\\seizure_examples\\package\\T332-27072022-214843.avi.predictions.analysis.h5</td>\n<td>0</td>\n<td>D:\\COLLABDATA\\Seizures\\seizure_examples\\package\\T332-27072022-214843_No focal subject.csv</td>\n<td>BORIS</td></tr><tr><td>332</td>\n<td>3</td>\n<td>1900-01-01</td>\n<td>M</td>\n<td>C57BL6</td>\n<td>2022-07-27 22:18:45</td>\n<td>0</td>\n<td>NaN</td>\n<td>30</td>\n<td>D:\\COLLABDATA\\Seizures\\seizure_examples\\package\\T332-27072022-221845.avi.predictions.analysis.h5</td>\n<td>0</td>\n<td>D:\\COLLABDATA\\Seizures\\seizure_examples\\package\\T332-27072022-221845_No focal subject.csv</td>\n<td>BORIS</td></tr><tr><td>333</td>\n<td>4</td>\n<td>1900-01-01</td>\n<td>M</td>\n<td>C57BL6</td>\n<td>2022-07-27 21:48:43</td>\n<td>0</td>\n<td>NaN</td>\n<td>30</td>\n<td>D:\\COLLABDATA\\Seizures\\seizure_examples\\package\\T333-27072022-214843.avi.predictions.analysis.h5</td>\n<td>0</td>\n<td>D:\\COLLABDATA\\Seizures\\seizure_examples\\package\\T333-27072022-214843_No focal subject.csv</td>\n<td>BORIS</td></tr><tr><td>333</td>\n<td>5</td>\n<td>1900-01-01</td>\n<td>M</td>\n<td>C57BL6</td>\n<td>2022-07-27 22:48:48</td>\n<td>0</td>\n<td>NaN</td>\n<td>30</td>\n<td>D:\\COLLABDATA\\Seizures\\seizure_examples\\package\\T333-27072022-224848.avi.predictions.analysis.h5</td>\n<td>0</td>\n<td>D:\\COLLABDATA\\Seizures\\seizure_examples\\package\\T333-27072022-224848_No focal subject.csv</td>\n<td>BORIS</td> </tr> </tbody>\n        </table>\n        \n        <p>Total: 6</p></div>\n        "
     },
     "execution_count": 3,
     "metadata": {},
     "output_type": "execute_result"
    }
   ],
   "source": [
    "#have a look at the main tables (joined)\n",
    "Mouse * Session"
   ],
   "metadata": {
    "collapsed": false,
    "ExecuteTime": {
     "start_time": "2023-04-20T23:13:05.322693Z",
     "end_time": "2023-04-20T23:13:05.336089Z"
    }
   }
  },
  {
   "cell_type": "markdown",
   "source": [
    "## Testing some database fetching\n",
    "\n",
    "Recover the pose estimation data from that session and convert it back into a pd.Dataframe\n",
    "1. Get the pose estimation data from the database (fetch1)\n",
    "2. Convert the data into a pd.DataFrame\n",
    "3. Use additional information from the database to add the model name and the keypoints to the pd.DataFrame\n",
    "4. Display the pd.DataFrame"
   ],
   "metadata": {
    "collapsed": false
   }
  },
  {
   "cell_type": "code",
   "execution_count": 5,
   "outputs": [
    {
     "data": {
      "text/plain": "model     TestModelName                                                 \\\nkeypoints      ear_left                          ear_right               \ncoords                x           y likelihood           x           y   \n0            768.060303  303.915894        1.0  680.155823  316.045258   \n1            771.877014  303.880249        1.0  680.094482  316.013702   \n2            771.963501  303.849487        1.0  680.089600  316.009766   \n3            771.918884  311.881409        1.0  679.972961  324.072968   \n4            772.111572  312.031097        1.0  680.257629  332.042816   \n...                 ...         ...        ...         ...         ...   \n67974        467.992462  455.969635        1.0  540.142639  508.061432   \n67975        467.996948  455.955078        1.0  540.133118  508.061707   \n67976        468.017242  455.984650        1.0  540.130676  508.066193   \n67977        468.003479  455.954437        1.0  540.130127  508.057343   \n67978        467.998840  455.959808        1.0  540.118774  508.061920   \n\nmodel                                                                ...  \\\nkeypoints               hip_left                          hip_right  ...   \ncoords    likelihood           x           y likelihood           x  ...   \n0                1.0  731.987000  187.944641        1.0  651.943848  ...   \n1                1.0  727.726501  187.869583        1.0  651.749695  ...   \n2                1.0  727.723083  187.945724        1.0  755.755798  ...   \n3                1.0  772.284790  216.150909        1.0  652.183411  ...   \n4                1.0  772.113708  220.072205        1.0  655.957764  ...   \n...              ...         ...         ...        ...         ...  ...   \n67974            1.0  404.054657  544.025330        1.0  500.132202  ...   \n67975            1.0  404.045929  544.053162        1.0  500.127045  ...   \n67976            1.0  404.048492  544.046570        1.0  500.147461  ...   \n67977            1.0  404.052124  544.034668        1.0  500.168732  ...   \n67978            1.0  404.053284  544.008484        1.0  500.168945  ...   \n\nmodel                                                                \\\nkeypoints       neck        nose                          tail_base   \ncoords    likelihood           x           y likelihood           x   \n0                1.0  743.828979  360.086975        1.0  679.949097   \n1                1.0  743.941650  359.961365        1.0  676.098572   \n2                1.0  747.831116  356.064423        1.0  679.961304   \n3                1.0  752.175659  348.292480        1.0  679.933960   \n4                1.0  760.119446  348.020355        1.0  679.947388   \n...              ...         ...         ...        ...         ...   \n67974            1.0  536.151672  424.166473        1.0  431.917908   \n67975            1.0  536.143555  424.156769        1.0  431.914917   \n67976            1.0  536.155273  424.158051        1.0  431.915771   \n67977            1.0  536.156494  424.161377        1.0  431.914581   \n67978            1.0  536.163025  424.167145        1.0  431.912323   \n\nmodel                                                                \nkeypoints                           tail_tip                         \ncoords              y likelihood           x           y likelihood  \n0          167.877228        1.0  671.543945  375.730286        0.0  \n1          164.051056        1.0  671.543945  375.730286        0.0  \n2          167.911652        1.0  671.543945  375.730286        0.0  \n3          167.934067        1.0  671.543945  375.730286        0.0  \n4          167.910538        1.0  671.543945  375.730286        0.0  \n...               ...        ...         ...         ...        ...  \n67974      631.880615        1.0  420.075562  868.138489        1.0  \n67975      631.880371        1.0  420.080322  868.137451        1.0  \n67976      631.881226        1.0  420.079742  868.143066        1.0  \n67977      631.880798        1.0  420.077850  868.144592        1.0  \n67978      631.880920        1.0  420.076141  868.139221        1.0  \n\n[67979 rows x 24 columns]",
      "text/html": "<div>\n<style scoped>\n    .dataframe tbody tr th:only-of-type {\n        vertical-align: middle;\n    }\n\n    .dataframe tbody tr th {\n        vertical-align: top;\n    }\n\n    .dataframe thead tr th {\n        text-align: left;\n    }\n</style>\n<table border=\"1\" class=\"dataframe\">\n  <thead>\n    <tr>\n      <th>model</th>\n      <th colspan=\"21\" halign=\"left\">TestModelName</th>\n    </tr>\n    <tr>\n      <th>keypoints</th>\n      <th colspan=\"3\" halign=\"left\">ear_left</th>\n      <th colspan=\"3\" halign=\"left\">ear_right</th>\n      <th colspan=\"3\" halign=\"left\">hip_left</th>\n      <th>hip_right</th>\n      <th>...</th>\n      <th>neck</th>\n      <th colspan=\"3\" halign=\"left\">nose</th>\n      <th colspan=\"3\" halign=\"left\">tail_base</th>\n      <th colspan=\"3\" halign=\"left\">tail_tip</th>\n    </tr>\n    <tr>\n      <th>coords</th>\n      <th>x</th>\n      <th>y</th>\n      <th>likelihood</th>\n      <th>x</th>\n      <th>y</th>\n      <th>likelihood</th>\n      <th>x</th>\n      <th>y</th>\n      <th>likelihood</th>\n      <th>x</th>\n      <th>...</th>\n      <th>likelihood</th>\n      <th>x</th>\n      <th>y</th>\n      <th>likelihood</th>\n      <th>x</th>\n      <th>y</th>\n      <th>likelihood</th>\n      <th>x</th>\n      <th>y</th>\n      <th>likelihood</th>\n    </tr>\n  </thead>\n  <tbody>\n    <tr>\n      <th>0</th>\n      <td>768.060303</td>\n      <td>303.915894</td>\n      <td>1.0</td>\n      <td>680.155823</td>\n      <td>316.045258</td>\n      <td>1.0</td>\n      <td>731.987000</td>\n      <td>187.944641</td>\n      <td>1.0</td>\n      <td>651.943848</td>\n      <td>...</td>\n      <td>1.0</td>\n      <td>743.828979</td>\n      <td>360.086975</td>\n      <td>1.0</td>\n      <td>679.949097</td>\n      <td>167.877228</td>\n      <td>1.0</td>\n      <td>671.543945</td>\n      <td>375.730286</td>\n      <td>0.0</td>\n    </tr>\n    <tr>\n      <th>1</th>\n      <td>771.877014</td>\n      <td>303.880249</td>\n      <td>1.0</td>\n      <td>680.094482</td>\n      <td>316.013702</td>\n      <td>1.0</td>\n      <td>727.726501</td>\n      <td>187.869583</td>\n      <td>1.0</td>\n      <td>651.749695</td>\n      <td>...</td>\n      <td>1.0</td>\n      <td>743.941650</td>\n      <td>359.961365</td>\n      <td>1.0</td>\n      <td>676.098572</td>\n      <td>164.051056</td>\n      <td>1.0</td>\n      <td>671.543945</td>\n      <td>375.730286</td>\n      <td>0.0</td>\n    </tr>\n    <tr>\n      <th>2</th>\n      <td>771.963501</td>\n      <td>303.849487</td>\n      <td>1.0</td>\n      <td>680.089600</td>\n      <td>316.009766</td>\n      <td>1.0</td>\n      <td>727.723083</td>\n      <td>187.945724</td>\n      <td>1.0</td>\n      <td>755.755798</td>\n      <td>...</td>\n      <td>1.0</td>\n      <td>747.831116</td>\n      <td>356.064423</td>\n      <td>1.0</td>\n      <td>679.961304</td>\n      <td>167.911652</td>\n      <td>1.0</td>\n      <td>671.543945</td>\n      <td>375.730286</td>\n      <td>0.0</td>\n    </tr>\n    <tr>\n      <th>3</th>\n      <td>771.918884</td>\n      <td>311.881409</td>\n      <td>1.0</td>\n      <td>679.972961</td>\n      <td>324.072968</td>\n      <td>1.0</td>\n      <td>772.284790</td>\n      <td>216.150909</td>\n      <td>1.0</td>\n      <td>652.183411</td>\n      <td>...</td>\n      <td>1.0</td>\n      <td>752.175659</td>\n      <td>348.292480</td>\n      <td>1.0</td>\n      <td>679.933960</td>\n      <td>167.934067</td>\n      <td>1.0</td>\n      <td>671.543945</td>\n      <td>375.730286</td>\n      <td>0.0</td>\n    </tr>\n    <tr>\n      <th>4</th>\n      <td>772.111572</td>\n      <td>312.031097</td>\n      <td>1.0</td>\n      <td>680.257629</td>\n      <td>332.042816</td>\n      <td>1.0</td>\n      <td>772.113708</td>\n      <td>220.072205</td>\n      <td>1.0</td>\n      <td>655.957764</td>\n      <td>...</td>\n      <td>1.0</td>\n      <td>760.119446</td>\n      <td>348.020355</td>\n      <td>1.0</td>\n      <td>679.947388</td>\n      <td>167.910538</td>\n      <td>1.0</td>\n      <td>671.543945</td>\n      <td>375.730286</td>\n      <td>0.0</td>\n    </tr>\n    <tr>\n      <th>...</th>\n      <td>...</td>\n      <td>...</td>\n      <td>...</td>\n      <td>...</td>\n      <td>...</td>\n      <td>...</td>\n      <td>...</td>\n      <td>...</td>\n      <td>...</td>\n      <td>...</td>\n      <td>...</td>\n      <td>...</td>\n      <td>...</td>\n      <td>...</td>\n      <td>...</td>\n      <td>...</td>\n      <td>...</td>\n      <td>...</td>\n      <td>...</td>\n      <td>...</td>\n      <td>...</td>\n    </tr>\n    <tr>\n      <th>67974</th>\n      <td>467.992462</td>\n      <td>455.969635</td>\n      <td>1.0</td>\n      <td>540.142639</td>\n      <td>508.061432</td>\n      <td>1.0</td>\n      <td>404.054657</td>\n      <td>544.025330</td>\n      <td>1.0</td>\n      <td>500.132202</td>\n      <td>...</td>\n      <td>1.0</td>\n      <td>536.151672</td>\n      <td>424.166473</td>\n      <td>1.0</td>\n      <td>431.917908</td>\n      <td>631.880615</td>\n      <td>1.0</td>\n      <td>420.075562</td>\n      <td>868.138489</td>\n      <td>1.0</td>\n    </tr>\n    <tr>\n      <th>67975</th>\n      <td>467.996948</td>\n      <td>455.955078</td>\n      <td>1.0</td>\n      <td>540.133118</td>\n      <td>508.061707</td>\n      <td>1.0</td>\n      <td>404.045929</td>\n      <td>544.053162</td>\n      <td>1.0</td>\n      <td>500.127045</td>\n      <td>...</td>\n      <td>1.0</td>\n      <td>536.143555</td>\n      <td>424.156769</td>\n      <td>1.0</td>\n      <td>431.914917</td>\n      <td>631.880371</td>\n      <td>1.0</td>\n      <td>420.080322</td>\n      <td>868.137451</td>\n      <td>1.0</td>\n    </tr>\n    <tr>\n      <th>67976</th>\n      <td>468.017242</td>\n      <td>455.984650</td>\n      <td>1.0</td>\n      <td>540.130676</td>\n      <td>508.066193</td>\n      <td>1.0</td>\n      <td>404.048492</td>\n      <td>544.046570</td>\n      <td>1.0</td>\n      <td>500.147461</td>\n      <td>...</td>\n      <td>1.0</td>\n      <td>536.155273</td>\n      <td>424.158051</td>\n      <td>1.0</td>\n      <td>431.915771</td>\n      <td>631.881226</td>\n      <td>1.0</td>\n      <td>420.079742</td>\n      <td>868.143066</td>\n      <td>1.0</td>\n    </tr>\n    <tr>\n      <th>67977</th>\n      <td>468.003479</td>\n      <td>455.954437</td>\n      <td>1.0</td>\n      <td>540.130127</td>\n      <td>508.057343</td>\n      <td>1.0</td>\n      <td>404.052124</td>\n      <td>544.034668</td>\n      <td>1.0</td>\n      <td>500.168732</td>\n      <td>...</td>\n      <td>1.0</td>\n      <td>536.156494</td>\n      <td>424.161377</td>\n      <td>1.0</td>\n      <td>431.914581</td>\n      <td>631.880798</td>\n      <td>1.0</td>\n      <td>420.077850</td>\n      <td>868.144592</td>\n      <td>1.0</td>\n    </tr>\n    <tr>\n      <th>67978</th>\n      <td>467.998840</td>\n      <td>455.959808</td>\n      <td>1.0</td>\n      <td>540.118774</td>\n      <td>508.061920</td>\n      <td>1.0</td>\n      <td>404.053284</td>\n      <td>544.008484</td>\n      <td>1.0</td>\n      <td>500.168945</td>\n      <td>...</td>\n      <td>1.0</td>\n      <td>536.163025</td>\n      <td>424.167145</td>\n      <td>1.0</td>\n      <td>431.912323</td>\n      <td>631.880920</td>\n      <td>1.0</td>\n      <td>420.076141</td>\n      <td>868.139221</td>\n      <td>1.0</td>\n    </tr>\n  </tbody>\n</table>\n<p>67979 rows × 24 columns</p>\n</div>"
     },
     "execution_count": 5,
     "metadata": {},
     "output_type": "execute_result"
    }
   ],
   "source": [
    "import pandas as pd\n",
    "\n",
    "mouse_id = 332\n",
    "session_id = 0\n",
    "experimenter_id = 0\n",
    "\n",
    "pose_arr, keypoints = (Pose & f\"mouse_id = {mouse_id}\" & f\"session_id = {session_id}\").fetch1(\"pose\", \"keypoints\")\n",
    "#convert keypoints back to list\n",
    "keypoints = keypoints.split(\", \")\n",
    "\n",
    "model_id = (Session & f\"experimenter_id = {experimenter_id}\" & f\"session_id = {session_id}\").fetch1(\"pose_model_id\")\n",
    "\n",
    "model_name = (Model & f'model_id = {model_id}').fetch1(\"name\")\n",
    "\n",
    "df = pd.DataFrame(pose_arr)\n",
    "df.columns =pd.MultiIndex.from_product([[model_name], keypoints, [\"x\", \"y\", \"likelihood\"]]\n",
    "                                       , names = [\"model\", \"keypoints\", \"coords\"]\n",
    "                                       )\n",
    "df\n",
    "\n"
   ],
   "metadata": {
    "collapsed": false,
    "ExecuteTime": {
     "start_time": "2023-04-20T23:13:22.599646Z",
     "end_time": "2023-04-20T23:13:22.696979Z"
    }
   }
  },
  {
   "cell_type": "markdown",
   "source": [
    "## Retrieving specific information from a Computed table (Annotation.Stats)\n",
    "\n",
    "Get some descriptive statistics from the database by querrying a dj.Part of Annotation\n",
    "Get the number of annotations per behavior per mouse per session"
   ],
   "metadata": {
    "collapsed": false
   }
  },
  {
   "cell_type": "code",
   "execution_count": 6,
   "outputs": [
    {
     "data": {
      "text/plain": "*mouse_id    *session_id    *experimenter_ *behavior_id   total_frames   total_perc     total_time    \n+----------+ +------------+ +------------+ +------------+ +------------+ +------------+ +------------+\n332          0              0              Eat            1197           0.0176081      39.9          \n332          0              0              Freeze         11325          0.166593       377.5         \n332          0              0              Groom          7305           0.107458       243.5         \n332          0              0              Head Nodding   549            0.00807591     18.3          \n332          0              0              Investigate    40407          0.594395       1346.9        \n332          0              0              other          1101           0.0161959      36.7          \n332          0              0              Rearing        231            0.00339806     7.7           \n332          0              0              Rest           3021           0.0444395      100.7         \n332          0              0              Seizure        2844           0.0418358      94.8          \n332          1              0              Freeze         7791           0.114764       259.7         \n332          1              0              Groom          7827           0.115295       260.9         \n332          1              0              Investigate    20646          0.304123       688.2         \n   ...\n (Total: 52)",
      "text/html": "\n    \n    <style type=\"text/css\">\n        .Relation{\n            border-collapse:collapse;\n        }\n        .Relation th{\n            background: #A0A0A0; color: #ffffff; padding:4px; border:#f0e0e0 1px solid;\n            font-weight: normal; font-family: monospace; font-size: 100%;\n        }\n        .Relation td{\n            padding:4px; border:#f0e0e0 1px solid; font-size:100%;\n        }\n        .Relation tr:nth-child(odd){\n            background: #ffffff;\n        }\n        .Relation tr:nth-child(even){\n            background: #f3f1ff;\n        }\n        /* Tooltip container */\n        .djtooltip {\n        }\n        /* Tooltip text */\n        .djtooltip .djtooltiptext {\n            visibility: hidden;\n            width: 120px;\n            background-color: black;\n            color: #fff;\n            text-align: center;\n            padding: 5px 0;\n            border-radius: 6px;\n            /* Position the tooltip text - see examples below! */\n            position: absolute;\n            z-index: 1;\n        }\n        #primary {\n            font-weight: bold;\n            color: black;\n        }\n        #nonprimary {\n            font-weight: normal;\n            color: white;\n        }\n\n        /* Show the tooltip text when you mouse over the tooltip container */\n        .djtooltip:hover .djtooltiptext {\n            visibility: visible;\n        }\n    </style>\n    \n    <b></b>\n        <div style=\"max-height:1000px;max-width:1500px;overflow:auto;\">\n        <table border=\"1\" class=\"Relation\">\n            <thead> <tr style=\"text-align: right;\"> <th> <div class=\"djtooltip\">\n                            <p id=\"primary\">mouse_id</p>\n                            <span class=\"djtooltiptext\">Unique animal ID</span>\n                        </div></th><th><div class=\"djtooltip\">\n                            <p id=\"primary\">session_id</p>\n                            <span class=\"djtooltiptext\">id of experiment</span>\n                        </div></th><th><div class=\"djtooltip\">\n                            <p id=\"primary\">experimenter_id</p>\n                            <span class=\"djtooltiptext\">Unique experimenter ID</span>\n                        </div></th><th><div class=\"djtooltip\">\n                            <p id=\"primary\">behavior_id</p>\n                            <span class=\"djtooltiptext\">unique behavior id</span>\n                        </div></th><th><div class=\"djtooltip\">\n                            <p id=\"nonprimary\">total_frames</p>\n                            <span class=\"djtooltiptext\">total number of frames per behavior</span>\n                        </div></th><th><div class=\"djtooltip\">\n                            <p id=\"nonprimary\">total_perc</p>\n                            <span class=\"djtooltiptext\">perc. compared to total length of session</span>\n                        </div></th><th><div class=\"djtooltip\">\n                            <p id=\"nonprimary\">total_time</p>\n                            <span class=\"djtooltiptext\">total time in seconds</span>\n                        </div> </th> </tr> </thead>\n            <tbody> <tr> <td>332</td>\n<td>0</td>\n<td>0</td>\n<td>Eat</td>\n<td>1197</td>\n<td>0.0176081</td>\n<td>39.9</td></tr><tr><td>332</td>\n<td>0</td>\n<td>0</td>\n<td>Freeze</td>\n<td>11325</td>\n<td>0.166593</td>\n<td>377.5</td></tr><tr><td>332</td>\n<td>0</td>\n<td>0</td>\n<td>Groom</td>\n<td>7305</td>\n<td>0.107458</td>\n<td>243.5</td></tr><tr><td>332</td>\n<td>0</td>\n<td>0</td>\n<td>Head Nodding</td>\n<td>549</td>\n<td>0.00807591</td>\n<td>18.3</td></tr><tr><td>332</td>\n<td>0</td>\n<td>0</td>\n<td>Investigate</td>\n<td>40407</td>\n<td>0.594395</td>\n<td>1346.9</td></tr><tr><td>332</td>\n<td>0</td>\n<td>0</td>\n<td>other</td>\n<td>1101</td>\n<td>0.0161959</td>\n<td>36.7</td></tr><tr><td>332</td>\n<td>0</td>\n<td>0</td>\n<td>Rearing</td>\n<td>231</td>\n<td>0.00339806</td>\n<td>7.7</td></tr><tr><td>332</td>\n<td>0</td>\n<td>0</td>\n<td>Rest</td>\n<td>3021</td>\n<td>0.0444395</td>\n<td>100.7</td></tr><tr><td>332</td>\n<td>0</td>\n<td>0</td>\n<td>Seizure</td>\n<td>2844</td>\n<td>0.0418358</td>\n<td>94.8</td></tr><tr><td>332</td>\n<td>1</td>\n<td>0</td>\n<td>Freeze</td>\n<td>7791</td>\n<td>0.114764</td>\n<td>259.7</td></tr><tr><td>332</td>\n<td>1</td>\n<td>0</td>\n<td>Groom</td>\n<td>7827</td>\n<td>0.115295</td>\n<td>260.9</td></tr><tr><td>332</td>\n<td>1</td>\n<td>0</td>\n<td>Investigate</td>\n<td>20646</td>\n<td>0.304123</td>\n<td>688.2</td> </tr> </tbody>\n        </table>\n        <p>...</p>\n        <p>Total: 52</p></div>\n        "
     },
     "execution_count": 6,
     "metadata": {},
     "output_type": "execute_result"
    }
   ],
   "source": [
    "Annotation.Stats()"
   ],
   "metadata": {
    "collapsed": false,
    "ExecuteTime": {
     "start_time": "2023-04-20T23:13:24.320168Z",
     "end_time": "2023-04-20T23:13:24.345515Z"
    }
   }
  },
  {
   "cell_type": "markdown",
   "source": [
    "Get the number of annotations per behavior for a specific mouse by fetching the data as a pd.DataFrame"
   ],
   "metadata": {
    "collapsed": false
   }
  },
  {
   "cell_type": "code",
   "execution_count": 11,
   "outputs": [
    {
     "data": {
      "text/plain": "              total_frames  total_perc  total_time\nbehavior_id                                       \nEat                   1197    0.004402        39.9\nFreeze               35202    0.129707      1173.4\nGroom                24999    0.092106       833.3\nHead Nodding           549    0.002019        18.3\nInvestigate         122094    0.450009      4069.8\nJump                    60    0.000221         2.0\nRearing               3339    0.012316       111.3\nRest                 40800    0.150337      1360.0\nSeizure              13926    0.051334       464.2\nWalk                 27111    0.100063       903.7\nother                 2034    0.007486        67.8",
      "text/html": "<div>\n<style scoped>\n    .dataframe tbody tr th:only-of-type {\n        vertical-align: middle;\n    }\n\n    .dataframe tbody tr th {\n        vertical-align: top;\n    }\n\n    .dataframe thead th {\n        text-align: right;\n    }\n</style>\n<table border=\"1\" class=\"dataframe\">\n  <thead>\n    <tr style=\"text-align: right;\">\n      <th></th>\n      <th>total_frames</th>\n      <th>total_perc</th>\n      <th>total_time</th>\n    </tr>\n    <tr>\n      <th>behavior_id</th>\n      <th></th>\n      <th></th>\n      <th></th>\n    </tr>\n  </thead>\n  <tbody>\n    <tr>\n      <th>Eat</th>\n      <td>1197</td>\n      <td>0.004402</td>\n      <td>39.9</td>\n    </tr>\n    <tr>\n      <th>Freeze</th>\n      <td>35202</td>\n      <td>0.129707</td>\n      <td>1173.4</td>\n    </tr>\n    <tr>\n      <th>Groom</th>\n      <td>24999</td>\n      <td>0.092106</td>\n      <td>833.3</td>\n    </tr>\n    <tr>\n      <th>Head Nodding</th>\n      <td>549</td>\n      <td>0.002019</td>\n      <td>18.3</td>\n    </tr>\n    <tr>\n      <th>Investigate</th>\n      <td>122094</td>\n      <td>0.450009</td>\n      <td>4069.8</td>\n    </tr>\n    <tr>\n      <th>Jump</th>\n      <td>60</td>\n      <td>0.000221</td>\n      <td>2.0</td>\n    </tr>\n    <tr>\n      <th>Rearing</th>\n      <td>3339</td>\n      <td>0.012316</td>\n      <td>111.3</td>\n    </tr>\n    <tr>\n      <th>Rest</th>\n      <td>40800</td>\n      <td>0.150337</td>\n      <td>1360.0</td>\n    </tr>\n    <tr>\n      <th>Seizure</th>\n      <td>13926</td>\n      <td>0.051334</td>\n      <td>464.2</td>\n    </tr>\n    <tr>\n      <th>Walk</th>\n      <td>27111</td>\n      <td>0.100063</td>\n      <td>903.7</td>\n    </tr>\n    <tr>\n      <th>other</th>\n      <td>2034</td>\n      <td>0.007486</td>\n      <td>67.8</td>\n    </tr>\n  </tbody>\n</table>\n</div>"
     },
     "execution_count": 11,
     "metadata": {},
     "output_type": "execute_result"
    }
   ],
   "source": [
    "query = (Annotation.Stats & \"mouse_id = 332\")\n",
    "frame = query.fetch(format=\"frame\")\n",
    "#sum up total labels per behavior across all sessions for one mouse\n",
    "# Note that total_perc would be wrong (summed up), so we need to recalculate it\n",
    "desc_df = frame.groupby([\"behavior_id\"]).sum()\n",
    "desc_df[\"total_perc\"] /= desc_df[\"total_perc\"].sum()\n",
    "desc_df"
   ],
   "metadata": {
    "collapsed": false,
    "ExecuteTime": {
     "start_time": "2023-04-20T23:15:10.995236Z",
     "end_time": "2023-04-20T23:15:11.028242Z"
    }
   }
  },
  {
   "cell_type": "markdown",
   "source": [
    "# ... To be continued"
   ],
   "metadata": {
    "collapsed": false
   }
  }
 ],
 "metadata": {
  "kernelspec": {
   "display_name": "Python 3",
   "language": "python",
   "name": "python3"
  },
  "language_info": {
   "codemirror_mode": {
    "name": "ipython",
    "version": 2
   },
   "file_extension": ".py",
   "mimetype": "text/x-python",
   "name": "python",
   "nbconvert_exporter": "python",
   "pygments_lexer": "ipython2",
   "version": "2.7.6"
  }
 },
 "nbformat": 4,
 "nbformat_minor": 0
}
