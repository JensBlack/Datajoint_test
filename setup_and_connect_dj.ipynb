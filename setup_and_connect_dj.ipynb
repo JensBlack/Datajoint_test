{
 "cells": [
  {
   "cell_type": "markdown",
   "source": [
    "Import datajoint and setup connection"
   ],
   "metadata": {
    "collapsed": false
   }
  },
  {
   "cell_type": "code",
   "execution_count": 23,
   "outputs": [],
   "source": [
    "import datajoint as dj\n",
    "import numpy as np\n",
    "import pandas as pd\n",
    "\n",
    "dj.config['database.host'] = '127.0.0.1'\n",
    "dj.config['database.user'] = 'root'\n",
    "dj.config['database.password'] = 'simple'\n",
    "\n",
    "dj.config.save_local()"
   ],
   "metadata": {
    "collapsed": false,
    "ExecuteTime": {
     "start_time": "2023-04-20T14:08:11.706414Z",
     "end_time": "2023-04-20T14:08:11.730175Z"
    }
   }
  },
  {
   "cell_type": "code",
   "execution_count": 24,
   "outputs": [
    {
     "data": {
      "text/plain": "DataJoint connection (connected) root@127.0.0.1:3306"
     },
     "execution_count": 24,
     "metadata": {},
     "output_type": "execute_result"
    }
   ],
   "source": [
    "dj.conn()"
   ],
   "metadata": {
    "collapsed": false,
    "ExecuteTime": {
     "start_time": "2023-04-20T14:08:11.716494Z",
     "end_time": "2023-04-20T14:08:11.775576Z"
    }
   }
  },
  {
   "cell_type": "code",
   "execution_count": 25,
   "outputs": [],
   "source": [
    "from tables import schema, Mouse, Session, Experimenter, Annotation, Pose, BehaviorTypes, Model"
   ],
   "metadata": {
    "collapsed": false,
    "ExecuteTime": {
     "start_time": "2023-04-20T14:08:11.732174Z",
     "end_time": "2023-04-20T14:08:11.775576Z"
    }
   }
  },
  {
   "cell_type": "markdown",
   "source": [
    "## Insert data into tables"
   ],
   "metadata": {
    "collapsed": false
   }
  },
  {
   "cell_type": "markdown",
   "source": [
    "### Mouse data"
   ],
   "metadata": {
    "collapsed": false
   }
  },
  {
   "cell_type": "code",
   "execution_count": 26,
   "outputs": [
    {
     "data": {
      "text/plain": "*mouse_id    dob            sex    \n+----------+ +------------+ +-----+\n0            2023-04-20     M      \n1            2023-03-20     F      \n2            2023-02-20     F      \n3            2023-01-20     M      \n (Total: 4)",
      "text/html": "\n    \n    <style type=\"text/css\">\n        .Relation{\n            border-collapse:collapse;\n        }\n        .Relation th{\n            background: #A0A0A0; color: #ffffff; padding:4px; border:#f0e0e0 1px solid;\n            font-weight: normal; font-family: monospace; font-size: 100%;\n        }\n        .Relation td{\n            padding:4px; border:#f0e0e0 1px solid; font-size:100%;\n        }\n        .Relation tr:nth-child(odd){\n            background: #ffffff;\n        }\n        .Relation tr:nth-child(even){\n            background: #f3f1ff;\n        }\n        /* Tooltip container */\n        .djtooltip {\n        }\n        /* Tooltip text */\n        .djtooltip .djtooltiptext {\n            visibility: hidden;\n            width: 120px;\n            background-color: black;\n            color: #fff;\n            text-align: center;\n            padding: 5px 0;\n            border-radius: 6px;\n            /* Position the tooltip text - see examples below! */\n            position: absolute;\n            z-index: 1;\n        }\n        #primary {\n            font-weight: bold;\n            color: black;\n        }\n        #nonprimary {\n            font-weight: normal;\n            color: white;\n        }\n\n        /* Show the tooltip text when you mouse over the tooltip container */\n        .djtooltip:hover .djtooltiptext {\n            visibility: visible;\n        }\n    </style>\n    \n    <b>Experimental animals</b>\n        <div style=\"max-height:1000px;max-width:1500px;overflow:auto;\">\n        <table border=\"1\" class=\"Relation\">\n            <thead> <tr style=\"text-align: right;\"> <th> <div class=\"djtooltip\">\n                            <p id=\"primary\">mouse_id</p>\n                            <span class=\"djtooltiptext\">Unique animal ID</span>\n                        </div></th><th><div class=\"djtooltip\">\n                            <p id=\"nonprimary\">dob</p>\n                            <span class=\"djtooltiptext\">date of birth</span>\n                        </div></th><th><div class=\"djtooltip\">\n                            <p id=\"nonprimary\">sex</p>\n                            <span class=\"djtooltiptext\">sex</span>\n                        </div> </th> </tr> </thead>\n            <tbody> <tr> <td>0</td>\n<td>2023-04-20</td>\n<td>M</td></tr><tr><td>1</td>\n<td>2023-03-20</td>\n<td>F</td></tr><tr><td>2</td>\n<td>2023-02-20</td>\n<td>F</td></tr><tr><td>3</td>\n<td>2023-01-20</td>\n<td>M</td> </tr> </tbody>\n        </table>\n        \n        <p>Total: 4</p></div>\n        "
     },
     "execution_count": 26,
     "metadata": {},
     "output_type": "execute_result"
    }
   ],
   "source": [
    "mouse_data = [(0, \"2023-04-20\", \"M\")\n",
    "              ,(1, \"2023-03-20\", \"F\")\n",
    "              ,(2, \"2023-02-20\", \"F\")\n",
    "              ,(3, \"2023-01-20\", \"M\")]\n",
    "Mouse.insert(mouse_data, skip_duplicates= True)\n",
    "Mouse()"
   ],
   "metadata": {
    "collapsed": false,
    "ExecuteTime": {
     "start_time": "2023-04-20T14:08:11.748172Z",
     "end_time": "2023-04-20T14:08:11.777927Z"
    }
   }
  },
  {
   "cell_type": "markdown",
   "source": [
    "### Session data"
   ],
   "metadata": {
    "collapsed": false
   }
  },
  {
   "cell_type": "code",
   "execution_count": 27,
   "outputs": [],
   "source": [
    "session_data = [(0, 0, \"2023-04-20 00:00:01\", 0, \"VIDEO/TEST/PATH\",\"POSE/TEST/PATH\", \"SLEAP\", \"LABEL/TEST/PATH\", \"BORIS\")\n",
    "                ,(0, 1, \"2023-04-20 00:00:01\", 0, \"VIDEO/TEST/PATH\",\"POSE/TEST/PATH\", \"SLEAP\", \"LABEL/TEST/PATH\", \"BORIS\")\n",
    "                ,(1, 2, \"2023-04-20 00:00:01\", 0, \"VIDEO/TEST/PATH\",\"POSE/TEST/PATH\", \"SLEAP\", \"LABEL/TEST/PATH\", \"BORIS\")\n",
    "                ,(2, 3, \"2023-04-20 00:00:01\", 0, \"VIDEO/TEST/PATH\",\"POSE/TEST/PATH\", \"SLEAP\", \"LABEL/TEST/PATH\", \"BORIS\")]\n",
    "Session.insert(session_data, skip_duplicates = True)"
   ],
   "metadata": {
    "collapsed": false,
    "ExecuteTime": {
     "start_time": "2023-04-20T14:08:11.783323Z",
     "end_time": "2023-04-20T14:08:11.792428Z"
    }
   }
  },
  {
   "cell_type": "markdown",
   "source": [
    "## Insert data into Lookup tables"
   ],
   "metadata": {
    "collapsed": false
   }
  },
  {
   "cell_type": "markdown",
   "source": [
    "### Model data"
   ],
   "metadata": {
    "collapsed": false
   }
  },
  {
   "cell_type": "code",
   "execution_count": 28,
   "outputs": [],
   "source": [
    "Model.insert1((0, \"SingleInstance_OF_n=300\", \"Single instance\", \"2023-04-20\", \"A test model for open field video recordings of a single mouse\"), skip_duplicates = True)\n"
   ],
   "metadata": {
    "collapsed": false,
    "ExecuteTime": {
     "start_time": "2023-04-20T14:08:11.795155Z",
     "end_time": "2023-04-20T14:08:11.831672Z"
    }
   }
  },
  {
   "cell_type": "markdown",
   "source": [
    "### Experimenter data"
   ],
   "metadata": {
    "collapsed": false
   }
  },
  {
   "cell_type": "code",
   "execution_count": 29,
   "outputs": [
    {
     "data": {
      "text/plain": "*mouse_id    *session_id    *experimenter_ session_time   video_path     pose_path      pose_origin    annotation_pat annotation_ori name           sex    \n+----------+ +------------+ +------------+ +------------+ +------------+ +------------+ +------------+ +------------+ +------------+ +------------+ +-----+\n0            0              0              2023-04-20 00: VIDEO/TEST/PAT POSE/TEST/PATH SLEAP          LABEL/TEST/PAT BORIS          Jens Tillmann  M      \n0            1              0              2023-04-20 00: VIDEO/TEST/PAT POSE/TEST/PATH SLEAP          LABEL/TEST/PAT BORIS          Jens Tillmann  M      \n1            2              0              2023-04-20 00: VIDEO/TEST/PAT POSE/TEST/PATH SLEAP          LABEL/TEST/PAT BORIS          Jens Tillmann  M      \n2            3              0              2023-04-20 00: VIDEO/TEST/PAT POSE/TEST/PATH SLEAP          LABEL/TEST/PAT BORIS          Jens Tillmann  M      \n (Total: 4)",
      "text/html": "\n    \n    <style type=\"text/css\">\n        .Relation{\n            border-collapse:collapse;\n        }\n        .Relation th{\n            background: #A0A0A0; color: #ffffff; padding:4px; border:#f0e0e0 1px solid;\n            font-weight: normal; font-family: monospace; font-size: 100%;\n        }\n        .Relation td{\n            padding:4px; border:#f0e0e0 1px solid; font-size:100%;\n        }\n        .Relation tr:nth-child(odd){\n            background: #ffffff;\n        }\n        .Relation tr:nth-child(even){\n            background: #f3f1ff;\n        }\n        /* Tooltip container */\n        .djtooltip {\n        }\n        /* Tooltip text */\n        .djtooltip .djtooltiptext {\n            visibility: hidden;\n            width: 120px;\n            background-color: black;\n            color: #fff;\n            text-align: center;\n            padding: 5px 0;\n            border-radius: 6px;\n            /* Position the tooltip text - see examples below! */\n            position: absolute;\n            z-index: 1;\n        }\n        #primary {\n            font-weight: bold;\n            color: black;\n        }\n        #nonprimary {\n            font-weight: normal;\n            color: white;\n        }\n\n        /* Show the tooltip text when you mouse over the tooltip container */\n        .djtooltip:hover .djtooltiptext {\n            visibility: visible;\n        }\n    </style>\n    \n    \n        <div style=\"max-height:1000px;max-width:1500px;overflow:auto;\">\n        <table border=\"1\" class=\"Relation\">\n            <thead> <tr style=\"text-align: right;\"> <th> <div class=\"djtooltip\">\n                            <p id=\"primary\">mouse_id</p>\n                            <span class=\"djtooltiptext\">Unique animal ID</span>\n                        </div></th><th><div class=\"djtooltip\">\n                            <p id=\"primary\">session_id</p>\n                            <span class=\"djtooltiptext\">id of experiment</span>\n                        </div></th><th><div class=\"djtooltip\">\n                            <p id=\"primary\">experimenter_id</p>\n                            <span class=\"djtooltiptext\">Unique experimenter ID</span>\n                        </div></th><th><div class=\"djtooltip\">\n                            <p id=\"nonprimary\">session_time</p>\n                            <span class=\"djtooltiptext\">time of experiment #todo: change to datetime</span>\n                        </div></th><th><div class=\"djtooltip\">\n                            <p id=\"nonprimary\">video_path</p>\n                            <span class=\"djtooltiptext\">path to video file</span>\n                        </div></th><th><div class=\"djtooltip\">\n                            <p id=\"nonprimary\">pose_path</p>\n                            <span class=\"djtooltiptext\">path to pose file</span>\n                        </div></th><th><div class=\"djtooltip\">\n                            <p id=\"nonprimary\">pose_origin</p>\n                            <span class=\"djtooltiptext\">origin of pose estimation (e.g. SLEAP)</span>\n                        </div></th><th><div class=\"djtooltip\">\n                            <p id=\"nonprimary\">annotation_path</p>\n                            <span class=\"djtooltiptext\">path to annotation file</span>\n                        </div></th><th><div class=\"djtooltip\">\n                            <p id=\"nonprimary\">annotation_origin</p>\n                            <span class=\"djtooltiptext\">origin of annotation files (e.g. BORIS)</span>\n                        </div></th><th><div class=\"djtooltip\">\n                            <p id=\"nonprimary\">name</p>\n                            <span class=\"djtooltiptext\">name of experimenter</span>\n                        </div></th><th><div class=\"djtooltip\">\n                            <p id=\"nonprimary\">sex</p>\n                            <span class=\"djtooltiptext\">sex</span>\n                        </div> </th> </tr> </thead>\n            <tbody> <tr> <td>0</td>\n<td>0</td>\n<td>0</td>\n<td>2023-04-20 00:00:01</td>\n<td>VIDEO/TEST/PATH</td>\n<td>POSE/TEST/PATH</td>\n<td>SLEAP</td>\n<td>LABEL/TEST/PATH</td>\n<td>BORIS</td>\n<td>Jens Tillmann</td>\n<td>M</td></tr><tr><td>0</td>\n<td>1</td>\n<td>0</td>\n<td>2023-04-20 00:00:01</td>\n<td>VIDEO/TEST/PATH</td>\n<td>POSE/TEST/PATH</td>\n<td>SLEAP</td>\n<td>LABEL/TEST/PATH</td>\n<td>BORIS</td>\n<td>Jens Tillmann</td>\n<td>M</td></tr><tr><td>1</td>\n<td>2</td>\n<td>0</td>\n<td>2023-04-20 00:00:01</td>\n<td>VIDEO/TEST/PATH</td>\n<td>POSE/TEST/PATH</td>\n<td>SLEAP</td>\n<td>LABEL/TEST/PATH</td>\n<td>BORIS</td>\n<td>Jens Tillmann</td>\n<td>M</td></tr><tr><td>2</td>\n<td>3</td>\n<td>0</td>\n<td>2023-04-20 00:00:01</td>\n<td>VIDEO/TEST/PATH</td>\n<td>POSE/TEST/PATH</td>\n<td>SLEAP</td>\n<td>LABEL/TEST/PATH</td>\n<td>BORIS</td>\n<td>Jens Tillmann</td>\n<td>M</td> </tr> </tbody>\n        </table>\n        \n        <p>Total: 4</p></div>\n        "
     },
     "execution_count": 29,
     "metadata": {},
     "output_type": "execute_result"
    }
   ],
   "source": [
    "Experimenter.insert1((0, \"Jens Tillmann\", \"M\"), skip_duplicates = True)\n",
    "Session * Experimenter"
   ],
   "metadata": {
    "collapsed": false,
    "ExecuteTime": {
     "start_time": "2023-04-20T14:08:11.807805Z",
     "end_time": "2023-04-20T14:08:11.848355Z"
    }
   }
  },
  {
   "cell_type": "code",
   "execution_count": 30,
   "outputs": [
    {
     "data": {
      "text/plain": "*behavior_id   name           description   \n+------------+ +------------+ +------------+\n0              test_sniff     A Test class f\n1              nose_test      A Test class f\n2              tail_wiggle    A Test class f\n (Total: 3)",
      "text/html": "\n    \n    <style type=\"text/css\">\n        .Relation{\n            border-collapse:collapse;\n        }\n        .Relation th{\n            background: #A0A0A0; color: #ffffff; padding:4px; border:#f0e0e0 1px solid;\n            font-weight: normal; font-family: monospace; font-size: 100%;\n        }\n        .Relation td{\n            padding:4px; border:#f0e0e0 1px solid; font-size:100%;\n        }\n        .Relation tr:nth-child(odd){\n            background: #ffffff;\n        }\n        .Relation tr:nth-child(even){\n            background: #f3f1ff;\n        }\n        /* Tooltip container */\n        .djtooltip {\n        }\n        /* Tooltip text */\n        .djtooltip .djtooltiptext {\n            visibility: hidden;\n            width: 120px;\n            background-color: black;\n            color: #fff;\n            text-align: center;\n            padding: 5px 0;\n            border-radius: 6px;\n            /* Position the tooltip text - see examples below! */\n            position: absolute;\n            z-index: 1;\n        }\n        #primary {\n            font-weight: bold;\n            color: black;\n        }\n        #nonprimary {\n            font-weight: normal;\n            color: white;\n        }\n\n        /* Show the tooltip text when you mouse over the tooltip container */\n        .djtooltip:hover .djtooltiptext {\n            visibility: visible;\n        }\n    </style>\n    \n    <b>Annotation info</b>\n        <div style=\"max-height:1000px;max-width:1500px;overflow:auto;\">\n        <table border=\"1\" class=\"Relation\">\n            <thead> <tr style=\"text-align: right;\"> <th> <div class=\"djtooltip\">\n                            <p id=\"primary\">behavior_id</p>\n                            <span class=\"djtooltiptext\">Unique behavior ID</span>\n                        </div></th><th><div class=\"djtooltip\">\n                            <p id=\"nonprimary\">name</p>\n                            <span class=\"djtooltiptext\">name of behavior</span>\n                        </div></th><th><div class=\"djtooltip\">\n                            <p id=\"nonprimary\">description</p>\n                            <span class=\"djtooltiptext\">description of the behavior (optional)</span>\n                        </div> </th> </tr> </thead>\n            <tbody> <tr> <td>0</td>\n<td>test_sniff</td>\n<td>A Test class for sniffing</td></tr><tr><td>1</td>\n<td>nose_test</td>\n<td>A Test class for nose movement</td></tr><tr><td>2</td>\n<td>tail_wiggle</td>\n<td>A Test class for tail wiggling</td> </tr> </tbody>\n        </table>\n        \n        <p>Total: 3</p></div>\n        "
     },
     "execution_count": 30,
     "metadata": {},
     "output_type": "execute_result"
    }
   ],
   "source": [
    "unique_labels = [(0, \"test_sniff\", \"A Test class for sniffing\")\n",
    "                , (1, \"nose_test\", \"A Test class for nose movement\")\n",
    "                , (2, \"tail_wiggle\", \"A Test class for tail wiggling\")]\n",
    "\n",
    "BehaviorTypes.insert(unique_labels, skip_duplicates= True)\n",
    "BehaviorTypes()"
   ],
   "metadata": {
    "collapsed": false,
    "ExecuteTime": {
     "start_time": "2023-04-20T14:08:11.841476Z",
     "end_time": "2023-04-20T14:08:11.881180Z"
    }
   }
  },
  {
   "cell_type": "markdown",
   "source": [
    "## Look at some table joins"
   ],
   "metadata": {
    "collapsed": false
   }
  },
  {
   "cell_type": "code",
   "execution_count": 31,
   "outputs": [
    {
     "data": {
      "text/plain": "*mouse_id    *session_id    dob            sex     session_time   experimenter_i video_path     pose_path      pose_origin    annotation_pat annotation_ori\n+----------+ +------------+ +------------+ +-----+ +------------+ +------------+ +------------+ +------------+ +------------+ +------------+ +------------+\n0            0              2023-04-20     M       2023-04-20 00: 0              VIDEO/TEST/PAT POSE/TEST/PATH SLEAP          LABEL/TEST/PAT BORIS         \n0            1              2023-04-20     M       2023-04-20 00: 0              VIDEO/TEST/PAT POSE/TEST/PATH SLEAP          LABEL/TEST/PAT BORIS         \n1            2              2023-03-20     F       2023-04-20 00: 0              VIDEO/TEST/PAT POSE/TEST/PATH SLEAP          LABEL/TEST/PAT BORIS         \n2            3              2023-02-20     F       2023-04-20 00: 0              VIDEO/TEST/PAT POSE/TEST/PATH SLEAP          LABEL/TEST/PAT BORIS         \n (Total: 4)",
      "text/html": "\n    \n    <style type=\"text/css\">\n        .Relation{\n            border-collapse:collapse;\n        }\n        .Relation th{\n            background: #A0A0A0; color: #ffffff; padding:4px; border:#f0e0e0 1px solid;\n            font-weight: normal; font-family: monospace; font-size: 100%;\n        }\n        .Relation td{\n            padding:4px; border:#f0e0e0 1px solid; font-size:100%;\n        }\n        .Relation tr:nth-child(odd){\n            background: #ffffff;\n        }\n        .Relation tr:nth-child(even){\n            background: #f3f1ff;\n        }\n        /* Tooltip container */\n        .djtooltip {\n        }\n        /* Tooltip text */\n        .djtooltip .djtooltiptext {\n            visibility: hidden;\n            width: 120px;\n            background-color: black;\n            color: #fff;\n            text-align: center;\n            padding: 5px 0;\n            border-radius: 6px;\n            /* Position the tooltip text - see examples below! */\n            position: absolute;\n            z-index: 1;\n        }\n        #primary {\n            font-weight: bold;\n            color: black;\n        }\n        #nonprimary {\n            font-weight: normal;\n            color: white;\n        }\n\n        /* Show the tooltip text when you mouse over the tooltip container */\n        .djtooltip:hover .djtooltiptext {\n            visibility: visible;\n        }\n    </style>\n    \n    \n        <div style=\"max-height:1000px;max-width:1500px;overflow:auto;\">\n        <table border=\"1\" class=\"Relation\">\n            <thead> <tr style=\"text-align: right;\"> <th> <div class=\"djtooltip\">\n                            <p id=\"primary\">mouse_id</p>\n                            <span class=\"djtooltiptext\">Unique animal ID</span>\n                        </div></th><th><div class=\"djtooltip\">\n                            <p id=\"primary\">session_id</p>\n                            <span class=\"djtooltiptext\">id of experiment</span>\n                        </div></th><th><div class=\"djtooltip\">\n                            <p id=\"nonprimary\">dob</p>\n                            <span class=\"djtooltiptext\">date of birth</span>\n                        </div></th><th><div class=\"djtooltip\">\n                            <p id=\"nonprimary\">sex</p>\n                            <span class=\"djtooltiptext\">sex</span>\n                        </div></th><th><div class=\"djtooltip\">\n                            <p id=\"nonprimary\">session_time</p>\n                            <span class=\"djtooltiptext\">time of experiment #todo: change to datetime</span>\n                        </div></th><th><div class=\"djtooltip\">\n                            <p id=\"nonprimary\">experimenter_id</p>\n                            <span class=\"djtooltiptext\">id of experimenter, linking to experimenter table</span>\n                        </div></th><th><div class=\"djtooltip\">\n                            <p id=\"nonprimary\">video_path</p>\n                            <span class=\"djtooltiptext\">path to video file</span>\n                        </div></th><th><div class=\"djtooltip\">\n                            <p id=\"nonprimary\">pose_path</p>\n                            <span class=\"djtooltiptext\">path to pose file</span>\n                        </div></th><th><div class=\"djtooltip\">\n                            <p id=\"nonprimary\">pose_origin</p>\n                            <span class=\"djtooltiptext\">origin of pose estimation (e.g. SLEAP)</span>\n                        </div></th><th><div class=\"djtooltip\">\n                            <p id=\"nonprimary\">annotation_path</p>\n                            <span class=\"djtooltiptext\">path to annotation file</span>\n                        </div></th><th><div class=\"djtooltip\">\n                            <p id=\"nonprimary\">annotation_origin</p>\n                            <span class=\"djtooltiptext\">origin of annotation files (e.g. BORIS)</span>\n                        </div> </th> </tr> </thead>\n            <tbody> <tr> <td>0</td>\n<td>0</td>\n<td>2023-04-20</td>\n<td>M</td>\n<td>2023-04-20 00:00:01</td>\n<td>0</td>\n<td>VIDEO/TEST/PATH</td>\n<td>POSE/TEST/PATH</td>\n<td>SLEAP</td>\n<td>LABEL/TEST/PATH</td>\n<td>BORIS</td></tr><tr><td>0</td>\n<td>1</td>\n<td>2023-04-20</td>\n<td>M</td>\n<td>2023-04-20 00:00:01</td>\n<td>0</td>\n<td>VIDEO/TEST/PATH</td>\n<td>POSE/TEST/PATH</td>\n<td>SLEAP</td>\n<td>LABEL/TEST/PATH</td>\n<td>BORIS</td></tr><tr><td>1</td>\n<td>2</td>\n<td>2023-03-20</td>\n<td>F</td>\n<td>2023-04-20 00:00:01</td>\n<td>0</td>\n<td>VIDEO/TEST/PATH</td>\n<td>POSE/TEST/PATH</td>\n<td>SLEAP</td>\n<td>LABEL/TEST/PATH</td>\n<td>BORIS</td></tr><tr><td>2</td>\n<td>3</td>\n<td>2023-02-20</td>\n<td>F</td>\n<td>2023-04-20 00:00:01</td>\n<td>0</td>\n<td>VIDEO/TEST/PATH</td>\n<td>POSE/TEST/PATH</td>\n<td>SLEAP</td>\n<td>LABEL/TEST/PATH</td>\n<td>BORIS</td> </tr> </tbody>\n        </table>\n        \n        <p>Total: 4</p></div>\n        "
     },
     "execution_count": 31,
     "metadata": {},
     "output_type": "execute_result"
    }
   ],
   "source": [
    "Mouse * Session"
   ],
   "metadata": {
    "collapsed": false,
    "ExecuteTime": {
     "start_time": "2023-04-20T14:08:11.870182Z",
     "end_time": "2023-04-20T14:08:11.900181Z"
    }
   }
  },
  {
   "cell_type": "markdown",
   "source": [
    "## Populate tables and import data"
   ],
   "metadata": {
    "collapsed": false
   }
  },
  {
   "cell_type": "code",
   "execution_count": 32,
   "outputs": [
    {
     "data": {
      "text/plain": "*mouse_id    *session_id    *experimenter_ *model_id    keypoints      pose       annotation unique_labels  name           type           training_date  description   \n+----------+ +------------+ +------------+ +----------+ +------------+ +--------+ +--------+ +------------+ +------------+ +------------+ +------------+ +------------+\n0            0              0              0            nose, neck, ta =BLOB=     =BLOB=     test_sniff, no SingleInstance Single instanc 2023-04-20     A test model f\n0            1              0              0            nose, neck, ta =BLOB=     =BLOB=     test_sniff, no SingleInstance Single instanc 2023-04-20     A test model f\n1            2              0              0            nose, neck, ta =BLOB=     =BLOB=     test_sniff, no SingleInstance Single instanc 2023-04-20     A test model f\n2            3              0              0            nose, neck, ta =BLOB=     =BLOB=     test_sniff, no SingleInstance Single instanc 2023-04-20     A test model f\n (Total: 4)",
      "text/html": "\n    \n    <style type=\"text/css\">\n        .Relation{\n            border-collapse:collapse;\n        }\n        .Relation th{\n            background: #A0A0A0; color: #ffffff; padding:4px; border:#f0e0e0 1px solid;\n            font-weight: normal; font-family: monospace; font-size: 100%;\n        }\n        .Relation td{\n            padding:4px; border:#f0e0e0 1px solid; font-size:100%;\n        }\n        .Relation tr:nth-child(odd){\n            background: #ffffff;\n        }\n        .Relation tr:nth-child(even){\n            background: #f3f1ff;\n        }\n        /* Tooltip container */\n        .djtooltip {\n        }\n        /* Tooltip text */\n        .djtooltip .djtooltiptext {\n            visibility: hidden;\n            width: 120px;\n            background-color: black;\n            color: #fff;\n            text-align: center;\n            padding: 5px 0;\n            border-radius: 6px;\n            /* Position the tooltip text - see examples below! */\n            position: absolute;\n            z-index: 1;\n        }\n        #primary {\n            font-weight: bold;\n            color: black;\n        }\n        #nonprimary {\n            font-weight: normal;\n            color: white;\n        }\n\n        /* Show the tooltip text when you mouse over the tooltip container */\n        .djtooltip:hover .djtooltiptext {\n            visibility: visible;\n        }\n    </style>\n    \n    \n        <div style=\"max-height:1000px;max-width:1500px;overflow:auto;\">\n        <table border=\"1\" class=\"Relation\">\n            <thead> <tr style=\"text-align: right;\"> <th> <div class=\"djtooltip\">\n                            <p id=\"primary\">mouse_id</p>\n                            <span class=\"djtooltiptext\">Unique animal ID</span>\n                        </div></th><th><div class=\"djtooltip\">\n                            <p id=\"primary\">session_id</p>\n                            <span class=\"djtooltiptext\">id of experiment</span>\n                        </div></th><th><div class=\"djtooltip\">\n                            <p id=\"primary\">experimenter_id</p>\n                            <span class=\"djtooltiptext\">Unique experimenter ID</span>\n                        </div></th><th><div class=\"djtooltip\">\n                            <p id=\"primary\">model_id</p>\n                            <span class=\"djtooltiptext\">Unique model ID</span>\n                        </div></th><th><div class=\"djtooltip\">\n                            <p id=\"nonprimary\">keypoints</p>\n                            <span class=\"djtooltiptext\">keypoints seperated by comma</span>\n                        </div></th><th><div class=\"djtooltip\">\n                            <p id=\"nonprimary\">pose</p>\n                            <span class=\"djtooltiptext\">pose file as numpy array in style x,y,score per bodypart</span>\n                        </div></th><th><div class=\"djtooltip\">\n                            <p id=\"nonprimary\">annotations</p>\n                            <span class=\"djtooltiptext\">behavior file</span>\n                        </div></th><th><div class=\"djtooltip\">\n                            <p id=\"nonprimary\">unique_labels</p>\n                            <span class=\"djtooltiptext\">unique behavior labels seperated by comma</span>\n                        </div></th><th><div class=\"djtooltip\">\n                            <p id=\"nonprimary\">name</p>\n                            <span class=\"djtooltiptext\">name of model</span>\n                        </div></th><th><div class=\"djtooltip\">\n                            <p id=\"nonprimary\">type</p>\n                            <span class=\"djtooltiptext\">model architecture</span>\n                        </div></th><th><div class=\"djtooltip\">\n                            <p id=\"nonprimary\">training_date</p>\n                            <span class=\"djtooltiptext\">date the model was trained</span>\n                        </div></th><th><div class=\"djtooltip\">\n                            <p id=\"nonprimary\">description</p>\n                            <span class=\"djtooltiptext\">description of the model (optional)</span>\n                        </div> </th> </tr> </thead>\n            <tbody> <tr> <td>0</td>\n<td>0</td>\n<td>0</td>\n<td>0</td>\n<td>nose, neck, tail_base</td>\n<td>=BLOB=</td>\n<td>=BLOB=</td>\n<td>test_sniff, nose_test, tail_wiggle</td>\n<td>SingleInstance_OF_n=300</td>\n<td>Single instance</td>\n<td>2023-04-20</td>\n<td>A test model for open field video recordings of a single mouse</td></tr><tr><td>0</td>\n<td>1</td>\n<td>0</td>\n<td>0</td>\n<td>nose, neck, tail_base</td>\n<td>=BLOB=</td>\n<td>=BLOB=</td>\n<td>test_sniff, nose_test, tail_wiggle</td>\n<td>SingleInstance_OF_n=300</td>\n<td>Single instance</td>\n<td>2023-04-20</td>\n<td>A test model for open field video recordings of a single mouse</td></tr><tr><td>1</td>\n<td>2</td>\n<td>0</td>\n<td>0</td>\n<td>nose, neck, tail_base</td>\n<td>=BLOB=</td>\n<td>=BLOB=</td>\n<td>test_sniff, nose_test, tail_wiggle</td>\n<td>SingleInstance_OF_n=300</td>\n<td>Single instance</td>\n<td>2023-04-20</td>\n<td>A test model for open field video recordings of a single mouse</td></tr><tr><td>2</td>\n<td>3</td>\n<td>0</td>\n<td>0</td>\n<td>nose, neck, tail_base</td>\n<td>=BLOB=</td>\n<td>=BLOB=</td>\n<td>test_sniff, nose_test, tail_wiggle</td>\n<td>SingleInstance_OF_n=300</td>\n<td>Single instance</td>\n<td>2023-04-20</td>\n<td>A test model for open field video recordings of a single mouse</td> </tr> </tbody>\n        </table>\n        \n        <p>Total: 4</p></div>\n        "
     },
     "execution_count": 32,
     "metadata": {},
     "output_type": "execute_result"
    }
   ],
   "source": [
    "Pose.populate()\n",
    "Annotation.populate()\n",
    "Pose * Annotation * Model"
   ],
   "metadata": {
    "collapsed": false,
    "ExecuteTime": {
     "start_time": "2023-04-20T14:08:11.886184Z",
     "end_time": "2023-04-20T14:08:11.935992Z"
    }
   }
  },
  {
   "cell_type": "markdown",
   "source": [
    "## Compute some statistics"
   ],
   "metadata": {
    "collapsed": false
   }
  },
  {
   "cell_type": "code",
   "execution_count": 33,
   "outputs": [],
   "source": [],
   "metadata": {
    "collapsed": false,
    "ExecuteTime": {
     "start_time": "2023-04-20T14:08:11.933300Z",
     "end_time": "2023-04-20T14:08:11.965281Z"
    }
   }
  },
  {
   "cell_type": "code",
   "execution_count": 34,
   "outputs": [
    {
     "data": {
      "text/plain": "*mouse_id    *session_id    *experimenter_ *behavior_id   n_events     perc_event     name           description   \n+----------+ +------------+ +------------+ +------------+ +----------+ +------------+ +------------+ +------------+\n0            0              0              0              26           26.0           test_sniff     A Test class f\n0            0              0              1              35           35.0           nose_test      A Test class f\n0            0              0              2              39           39.0           tail_wiggle    A Test class f\n0            1              0              0              27           27.0           test_sniff     A Test class f\n0            1              0              1              35           35.0           nose_test      A Test class f\n0            1              0              2              38           38.0           tail_wiggle    A Test class f\n1            2              0              0              26           26.0           test_sniff     A Test class f\n1            2              0              1              32           32.0           nose_test      A Test class f\n1            2              0              2              42           42.0           tail_wiggle    A Test class f\n2            3              0              0              51           51.0           test_sniff     A Test class f\n2            3              0              1              30           30.0           nose_test      A Test class f\n2            3              0              2              19           19.0           tail_wiggle    A Test class f\n (Total: 12)",
      "text/html": "\n    \n    <style type=\"text/css\">\n        .Relation{\n            border-collapse:collapse;\n        }\n        .Relation th{\n            background: #A0A0A0; color: #ffffff; padding:4px; border:#f0e0e0 1px solid;\n            font-weight: normal; font-family: monospace; font-size: 100%;\n        }\n        .Relation td{\n            padding:4px; border:#f0e0e0 1px solid; font-size:100%;\n        }\n        .Relation tr:nth-child(odd){\n            background: #ffffff;\n        }\n        .Relation tr:nth-child(even){\n            background: #f3f1ff;\n        }\n        /* Tooltip container */\n        .djtooltip {\n        }\n        /* Tooltip text */\n        .djtooltip .djtooltiptext {\n            visibility: hidden;\n            width: 120px;\n            background-color: black;\n            color: #fff;\n            text-align: center;\n            padding: 5px 0;\n            border-radius: 6px;\n            /* Position the tooltip text - see examples below! */\n            position: absolute;\n            z-index: 1;\n        }\n        #primary {\n            font-weight: bold;\n            color: black;\n        }\n        #nonprimary {\n            font-weight: normal;\n            color: white;\n        }\n\n        /* Show the tooltip text when you mouse over the tooltip container */\n        .djtooltip:hover .djtooltiptext {\n            visibility: visible;\n        }\n    </style>\n    \n    \n        <div style=\"max-height:1000px;max-width:1500px;overflow:auto;\">\n        <table border=\"1\" class=\"Relation\">\n            <thead> <tr style=\"text-align: right;\"> <th> <div class=\"djtooltip\">\n                            <p id=\"primary\">mouse_id</p>\n                            <span class=\"djtooltiptext\">Unique animal ID</span>\n                        </div></th><th><div class=\"djtooltip\">\n                            <p id=\"primary\">session_id</p>\n                            <span class=\"djtooltiptext\">id of experiment</span>\n                        </div></th><th><div class=\"djtooltip\">\n                            <p id=\"primary\">experimenter_id</p>\n                            <span class=\"djtooltiptext\">Unique experimenter ID</span>\n                        </div></th><th><div class=\"djtooltip\">\n                            <p id=\"primary\">behavior_id</p>\n                            <span class=\"djtooltiptext\">Unique behavior ID</span>\n                        </div></th><th><div class=\"djtooltip\">\n                            <p id=\"nonprimary\">n_events</p>\n                            <span class=\"djtooltiptext\">Number of events of a particular behavior</span>\n                        </div></th><th><div class=\"djtooltip\">\n                            <p id=\"nonprimary\">perc_event</p>\n                            <span class=\"djtooltiptext\">percentage of session of a particular behavior</span>\n                        </div></th><th><div class=\"djtooltip\">\n                            <p id=\"nonprimary\">name</p>\n                            <span class=\"djtooltiptext\">name of behavior</span>\n                        </div></th><th><div class=\"djtooltip\">\n                            <p id=\"nonprimary\">description</p>\n                            <span class=\"djtooltiptext\">description of the behavior (optional)</span>\n                        </div> </th> </tr> </thead>\n            <tbody> <tr> <td>0</td>\n<td>0</td>\n<td>0</td>\n<td>0</td>\n<td>26</td>\n<td>26.0</td>\n<td>test_sniff</td>\n<td>A Test class for sniffing</td></tr><tr><td>0</td>\n<td>0</td>\n<td>0</td>\n<td>1</td>\n<td>35</td>\n<td>35.0</td>\n<td>nose_test</td>\n<td>A Test class for nose movement</td></tr><tr><td>0</td>\n<td>0</td>\n<td>0</td>\n<td>2</td>\n<td>39</td>\n<td>39.0</td>\n<td>tail_wiggle</td>\n<td>A Test class for tail wiggling</td></tr><tr><td>0</td>\n<td>1</td>\n<td>0</td>\n<td>0</td>\n<td>27</td>\n<td>27.0</td>\n<td>test_sniff</td>\n<td>A Test class for sniffing</td></tr><tr><td>0</td>\n<td>1</td>\n<td>0</td>\n<td>1</td>\n<td>35</td>\n<td>35.0</td>\n<td>nose_test</td>\n<td>A Test class for nose movement</td></tr><tr><td>0</td>\n<td>1</td>\n<td>0</td>\n<td>2</td>\n<td>38</td>\n<td>38.0</td>\n<td>tail_wiggle</td>\n<td>A Test class for tail wiggling</td></tr><tr><td>1</td>\n<td>2</td>\n<td>0</td>\n<td>0</td>\n<td>26</td>\n<td>26.0</td>\n<td>test_sniff</td>\n<td>A Test class for sniffing</td></tr><tr><td>1</td>\n<td>2</td>\n<td>0</td>\n<td>1</td>\n<td>32</td>\n<td>32.0</td>\n<td>nose_test</td>\n<td>A Test class for nose movement</td></tr><tr><td>1</td>\n<td>2</td>\n<td>0</td>\n<td>2</td>\n<td>42</td>\n<td>42.0</td>\n<td>tail_wiggle</td>\n<td>A Test class for tail wiggling</td></tr><tr><td>2</td>\n<td>3</td>\n<td>0</td>\n<td>0</td>\n<td>51</td>\n<td>51.0</td>\n<td>test_sniff</td>\n<td>A Test class for sniffing</td></tr><tr><td>2</td>\n<td>3</td>\n<td>0</td>\n<td>1</td>\n<td>30</td>\n<td>30.0</td>\n<td>nose_test</td>\n<td>A Test class for nose movement</td></tr><tr><td>2</td>\n<td>3</td>\n<td>0</td>\n<td>2</td>\n<td>19</td>\n<td>19.0</td>\n<td>tail_wiggle</td>\n<td>A Test class for tail wiggling</td> </tr> </tbody>\n        </table>\n        \n        <p>Total: 12</p></div>\n        "
     },
     "execution_count": 34,
     "metadata": {},
     "output_type": "execute_result"
    }
   ],
   "source": [
    "AnnotationStats.populate()\n",
    "AnnotationStats * BehaviorTypes"
   ],
   "metadata": {
    "collapsed": false,
    "ExecuteTime": {
     "start_time": "2023-04-20T14:08:11.947874Z",
     "end_time": "2023-04-20T14:08:11.995723Z"
    }
   }
  },
  {
   "cell_type": "code",
   "execution_count": 35,
   "outputs": [
    {
     "name": "stderr",
     "output_type": "stream",
     "text": [
      "C:\\Users\\JSchw\\anaconda3\\envs\\datajoint_test\\lib\\inspect.py:350: FutureWarning: pandas.Float64Index is deprecated and will be removed from pandas in a future version. Use pandas.Index with the appropriate dtype instead.\n",
      "  value = getattr(object, key)\n",
      "C:\\Users\\JSchw\\anaconda3\\envs\\datajoint_test\\lib\\inspect.py:350: FutureWarning: pandas.Int64Index is deprecated and will be removed from pandas in a future version. Use pandas.Index with the appropriate dtype instead.\n",
      "  value = getattr(object, key)\n",
      "C:\\Users\\JSchw\\anaconda3\\envs\\datajoint_test\\lib\\inspect.py:350: FutureWarning: pandas.UInt64Index is deprecated and will be removed from pandas in a future version. Use pandas.Index with the appropriate dtype instead.\n",
      "  value = getattr(object, key)\n"
     ]
    },
    {
     "data": {
      "text/plain": "<datajoint.diagram.Diagram at 0x1de51a88b20>",
      "image/svg+xml": "<svg xmlns=\"http://www.w3.org/2000/svg\" xmlns:xlink=\"http://www.w3.org/1999/xlink\" width=\"273pt\" height=\"247pt\" viewBox=\"0.00 0.00 272.75 247.00\">\n<g id=\"graph0\" class=\"graph\" transform=\"scale(1 1) rotate(0) translate(4 243)\">\n<polygon fill=\"white\" stroke=\"transparent\" points=\"-4,4 -4,-243 268.75,-243 268.75,4 -4,4\"/>\n<!-- AnnotationStats -->\n<g id=\"node1\" class=\"node\">\n<title>AnnotationStats</title>\n<g id=\"a_node1\"><a xlink:title=\"→ Annotation\r→ BehaviorTypes\r------------------------------\rn_events             \rperc_event           \r\">\n<ellipse fill=\"#ff0000\" fill-opacity=\"0.125490\" stroke=\"#ff0000\" stroke-opacity=\"0.125490\" cx=\"98.25\" cy=\"-13\" rx=\"13\" ry=\"13\"/>\n<text text-anchor=\"middle\" x=\"98.25\" y=\"-9.9\" font-family=\"arial\" font-size=\"12.00\" fill=\"#7f0000\" fill-opacity=\"0.627451\">AnnotationStats</text>\n</a>\n</g>\n</g>\n<!-- Model -->\n<g id=\"node2\" class=\"node\">\n<title>Model</title>\n<g id=\"a_node2\"><a xlink:title=\"model_id             \r------------------------------\rname                 \rtype                 \rtraining_date        \rdescription          \r\">\n<polygon fill=\"#000000\" fill-opacity=\"0.125490\" stroke=\"transparent\" points=\"258.75,-168 215.75,-168 215.75,-133 258.75,-133 258.75,-168\"/>\n<text text-anchor=\"start\" x=\"223.75\" y=\"-149\" font-family=\"arial\" text-decoration=\"underline\" font-size=\"10.00\">Model</text>\n</a>\n</g>\n</g>\n<!-- Pose -->\n<g id=\"node3\" class=\"node\">\n<title>Pose</title>\n<g id=\"a_node3\"><a xlink:title=\"→ Session\r→ Experimenter\r→ Model\r------------------------------\rkeypoints            \rpose                 \r\">\n<ellipse fill=\"#00007f\" fill-opacity=\"0.250980\" stroke=\"#00007f\" stroke-opacity=\"0.250980\" cx=\"237.25\" cy=\"-79.5\" rx=\"27.5\" ry=\"17.5\"/>\n<text text-anchor=\"middle\" x=\"237.25\" y=\"-76.4\" font-family=\"arial\" font-size=\"12.00\" fill=\"#00007f\" fill-opacity=\"0.627451\">Pose</text>\n</a>\n</g>\n</g>\n<!-- Model&#45;&gt;Pose -->\n<g id=\"edge1\" class=\"edge\">\n<title>Model-&gt;Pose</title>\n<path fill=\"none\" stroke=\"#000000\" stroke-width=\"0.75\" stroke-opacity=\"0.250980\" d=\"M237.25,-132.8C237.25,-121.95 237.25,-107.87 237.25,-97.05\"/>\n</g>\n<!-- Session -->\n<g id=\"node4\" class=\"node\">\n<title>Session</title>\n<g id=\"a_node4\"><a xlink:title=\"→ Mouse\rsession_id           \r------------------------------\rsession_time         \rexperimenter_id      \rvideo_path           \rpose_path            \rpose_origin          \rannotation_path      \rannotation_origin    \r\">\n<polygon fill=\"#00ff00\" fill-opacity=\"0.188235\" stroke=\"#00ff00\" stroke-opacity=\"0.188235\" points=\"188.25,-168 128.25,-168 128.25,-133 188.25,-133 188.25,-168\"/>\n<text text-anchor=\"start\" x=\"136.25\" y=\"-148.4\" font-family=\"arial\" text-decoration=\"underline\" font-size=\"12.00\" fill=\"darkgreen\">Session</text>\n</a>\n</g>\n</g>\n<!-- Session&#45;&gt;Pose -->\n<g id=\"edge2\" class=\"edge\">\n<title>Session-&gt;Pose</title>\n<path fill=\"none\" stroke=\"#000000\" stroke-width=\"0.75\" stroke-opacity=\"0.250980\" d=\"M177.37,-132.8C190.98,-120.91 209.03,-105.15 221.75,-94.04\"/>\n</g>\n<!-- Annotation -->\n<g id=\"node7\" class=\"node\">\n<title>Annotation</title>\n<g id=\"a_node7\"><a xlink:title=\"→ Session\r→ Experimenter\r------------------------------\rannotations=null     \runique_labels=null   \r\">\n<ellipse fill=\"#00007f\" fill-opacity=\"0.250980\" stroke=\"#00007f\" stroke-opacity=\"0.250980\" cx=\"46.25\" cy=\"-79.5\" rx=\"46\" ry=\"17.5\"/>\n<text text-anchor=\"middle\" x=\"46.25\" y=\"-76.4\" font-family=\"arial\" font-size=\"12.00\" fill=\"#00007f\" fill-opacity=\"0.627451\">Annotation</text>\n</a>\n</g>\n</g>\n<!-- Session&#45;&gt;Annotation -->\n<g id=\"edge3\" class=\"edge\">\n<title>Session-&gt;Annotation</title>\n<path fill=\"none\" stroke=\"#000000\" stroke-width=\"0.75\" stroke-opacity=\"0.250980\" d=\"M131.42,-132.97C112.53,-121.33 87.48,-105.9 69.45,-94.79\"/>\n</g>\n<!-- Mouse -->\n<g id=\"node5\" class=\"node\">\n<title>Mouse</title>\n<g id=\"a_node5\"><a xlink:title=\"mouse_id             \r------------------------------\rdob=null             \rsex=&quot;unknown&quot;        \r\">\n<polygon fill=\"#00ff00\" fill-opacity=\"0.188235\" stroke=\"#00ff00\" stroke-opacity=\"0.188235\" points=\"184.75,-239 131.75,-239 131.75,-204 184.75,-204 184.75,-239\"/>\n<text text-anchor=\"start\" x=\"139.75\" y=\"-219.4\" font-family=\"arial\" text-decoration=\"underline\" font-size=\"12.00\" fill=\"darkgreen\">Mouse</text>\n</a>\n</g>\n</g>\n<!-- Mouse&#45;&gt;Session -->\n<g id=\"edge4\" class=\"edge\">\n<title>Mouse-&gt;Session</title>\n<path fill=\"none\" stroke=\"#000000\" stroke-width=\"0.75\" stroke-opacity=\"0.250980\" d=\"M158.25,-203.8C158.25,-192.95 158.25,-178.87 158.25,-168.05\"/>\n</g>\n<!-- BehaviorTypes -->\n<g id=\"node6\" class=\"node\">\n<title>BehaviorTypes</title>\n<g id=\"a_node6\"><a xlink:title=\"behavior_id          \r------------------------------\rname                 \rdescription          \r\">\n<polygon fill=\"#000000\" fill-opacity=\"0.125490\" stroke=\"transparent\" points=\"191.75,-97 110.75,-97 110.75,-62 191.75,-62 191.75,-97\"/>\n<text text-anchor=\"start\" x=\"118.75\" y=\"-78\" font-family=\"arial\" text-decoration=\"underline\" font-size=\"10.00\">BehaviorTypes</text>\n</a>\n</g>\n</g>\n<!-- BehaviorTypes&#45;&gt;AnnotationStats -->\n<g id=\"edge5\" class=\"edge\">\n<title>BehaviorTypes-&gt;AnnotationStats</title>\n<path fill=\"none\" stroke=\"#000000\" stroke-width=\"0.75\" stroke-opacity=\"0.250980\" d=\"M137.6,-61.89C127.66,-49.8 114.55,-33.83 106.25,-23.74\"/>\n</g>\n<!-- Annotation&#45;&gt;AnnotationStats -->\n<g id=\"edge6\" class=\"edge\">\n<title>Annotation-&gt;AnnotationStats</title>\n<path fill=\"none\" stroke=\"#000000\" stroke-width=\"0.75\" stroke-opacity=\"0.250980\" d=\"M59.1,-62.56C68.97,-50.32 82.26,-33.83 90.54,-23.56\"/>\n</g>\n<!-- Experimenter -->\n<g id=\"node8\" class=\"node\">\n<title>Experimenter</title>\n<g id=\"a_node8\"><a xlink:title=\"experimenter_id      \r------------------------------\rname=null            \rsex=&quot;unknown&quot;        \r\">\n<polygon fill=\"#000000\" fill-opacity=\"0.125490\" stroke=\"transparent\" points=\"92.25,-168 18.25,-168 18.25,-133 92.25,-133 92.25,-168\"/>\n<text text-anchor=\"start\" x=\"26.25\" y=\"-149\" font-family=\"arial\" text-decoration=\"underline\" font-size=\"10.00\">Experimenter</text>\n</a>\n</g>\n</g>\n<!-- Experimenter&#45;&gt;Pose -->\n<g id=\"edge7\" class=\"edge\">\n<title>Experimenter-&gt;Pose</title>\n<path fill=\"none\" stroke=\"#000000\" stroke-width=\"0.75\" stroke-opacity=\"0.250980\" d=\"M92.48,-137.09C122.18,-126.95 164.71,-111.91 201.25,-97 205.96,-95.08 210.96,-92.89 215.68,-90.75\"/>\n</g>\n<!-- Experimenter&#45;&gt;Annotation -->\n<g id=\"edge8\" class=\"edge\">\n<title>Experimenter-&gt;Annotation</title>\n<path fill=\"none\" stroke=\"#000000\" stroke-width=\"0.75\" stroke-opacity=\"0.250980\" d=\"M53.07,-132.8C51.66,-121.95 49.82,-107.87 48.41,-97.05\"/>\n</g>\n</g>\n</svg>"
     },
     "execution_count": 35,
     "metadata": {},
     "output_type": "execute_result"
    }
   ],
   "source": [
    "dj.Diagram(schema)"
   ],
   "metadata": {
    "collapsed": false,
    "ExecuteTime": {
     "start_time": "2023-04-20T14:08:11.996235Z",
     "end_time": "2023-04-20T14:08:12.196787Z"
    }
   }
  },
  {
   "cell_type": "code",
   "execution_count": 35,
   "outputs": [],
   "source": [],
   "metadata": {
    "collapsed": false,
    "ExecuteTime": {
     "start_time": "2023-04-20T14:08:12.181785Z",
     "end_time": "2023-04-20T14:08:12.211782Z"
    }
   }
  }
 ],
 "metadata": {
  "kernelspec": {
   "display_name": "Python 3",
   "language": "python",
   "name": "python3"
  },
  "language_info": {
   "codemirror_mode": {
    "name": "ipython",
    "version": 2
   },
   "file_extension": ".py",
   "mimetype": "text/x-python",
   "name": "python",
   "nbconvert_exporter": "python",
   "pygments_lexer": "ipython2",
   "version": "2.7.6"
  }
 },
 "nbformat": 4,
 "nbformat_minor": 0
}
